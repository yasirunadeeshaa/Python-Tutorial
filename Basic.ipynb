{
  "cells": [
    {
      "cell_type": "markdown",
      "metadata": {
        "id": "vnmKEVeW2YSs"
      },
      "source": [
        "# Variables and Data"
      ]
    },
    {
      "cell_type": "code",
      "execution_count": 1,
      "metadata": {
        "colab": {
          "base_uri": "https://localhost:8080/"
        },
        "id": "ZWtu-v2CoqQx",
        "outputId": "3a34316d-8217-4886-e51f-d96683b70630"
      },
      "outputs": [
        {
          "name": "stdout",
          "output_type": "stream",
          "text": [
            "Yasiru\n"
          ]
        }
      ],
      "source": [
        "print(\"Yasiru\")"
      ]
    },
    {
      "cell_type": "code",
      "execution_count": 2,
      "metadata": {
        "colab": {
          "base_uri": "https://localhost:8080/"
        },
        "id": "GWA9lr6fuqXh",
        "outputId": "08622b70-ca55-47d5-d3e6-be02810b719c"
      },
      "outputs": [
        {
          "name": "stdout",
          "output_type": "stream",
          "text": [
            "Hello  yasito\n"
          ]
        }
      ],
      "source": [
        "name = input(\"Enter your name :- \")\n",
        "print(\"Hello \", name)"
      ]
    },
    {
      "cell_type": "code",
      "execution_count": 3,
      "metadata": {
        "colab": {
          "base_uri": "https://localhost:8080/"
        },
        "id": "seysDQD0zDmx",
        "outputId": "b2deffaf-b4dd-40e8-8709-193c503bb32a"
      },
      "outputs": [
        {
          "name": "stdout",
          "output_type": "stream",
          "text": [
            "Hiii  hgfcdxs  you will be  56  next year !\n"
          ]
        }
      ],
      "source": [
        "name = input(\"Enter your name :- \")\n",
        "age = int(input(\"Enter your age :- \"))\n",
        "print(\"Hiii \" ,name, \" you will be \",age + 1 ,\" next year !\")"
      ]
    },
    {
      "cell_type": "code",
      "execution_count": 4,
      "metadata": {
        "colab": {
          "base_uri": "https://localhost:8080/"
        },
        "id": "FdR6W9xyzx4x",
        "outputId": "613f650f-bb3f-4ebd-b829-55e43ad35699"
      },
      "outputs": [
        {
          "name": "stdout",
          "output_type": "stream",
          "text": [
            "Add: 10\n",
            "Subtract: 4\n",
            "Multiply: 21\n",
            "Divide: 2.3333333333333335\n",
            "Floor Divide: 2\n",
            "Modulus: 1\n",
            "Power: 343\n"
          ]
        }
      ],
      "source": [
        "a = 7\n",
        "b=3\n",
        "print(\"Add:\", a + b)            # 10\n",
        "print(\"Subtract:\", a - b)       # 4\n",
        "print(\"Multiply:\", a * b)       # 21\n",
        "print(\"Divide:\", a / b)         # 2.3333\n",
        "print(\"Floor Divide:\", a // b)  # 2\n",
        "print(\"Modulus:\", a % b)        # 1\n",
        "print(\"Power:\", a ** b)         # 343 (7 x 7 x 7)"
      ]
    },
    {
      "cell_type": "markdown",
      "metadata": {
        "id": "Rf5T9_FS3aDP"
      },
      "source": [
        "# Control Structure"
      ]
    },
    {
      "cell_type": "markdown",
      "metadata": {
        "id": "fFiPD24a55ap"
      },
      "source": [
        "## Decision making"
      ]
    },
    {
      "cell_type": "code",
      "execution_count": 5,
      "metadata": {
        "colab": {
          "base_uri": "https://localhost:8080/"
        },
        "id": "sAEY18zy3l0N",
        "outputId": "29b389d9-ee95-46f7-b278-25127f861780"
      },
      "outputs": [
        {
          "name": "stdout",
          "output_type": "stream",
          "text": [
            "Grade: F\n"
          ]
        }
      ],
      "source": [
        "score = int(input(\"Enter your score: \"))\n",
        "\n",
        "if score >= 90:\n",
        "    print(\"Grade: A\")\n",
        "elif score >= 75:\n",
        "    print(\"Grade: B\")\n",
        "elif score >= 60:\n",
        "    print(\"Grade: C\")\n",
        "else:\n",
        "    print(\"Grade: F\")"
      ]
    },
    {
      "cell_type": "code",
      "execution_count": 6,
      "metadata": {
        "colab": {
          "base_uri": "https://localhost:8080/"
        },
        "id": "8U7BbYYQ4rSu",
        "outputId": "d099495e-4df5-435d-adb3-84488205a35a"
      },
      "outputs": [
        {
          "name": "stdout",
          "output_type": "stream",
          "text": [
            "0\n",
            "1\n",
            "2\n",
            "4\n"
          ]
        }
      ],
      "source": [
        "for i in range(5):\n",
        "  if i==3:\n",
        "    continue\n",
        "  print(i)"
      ]
    },
    {
      "cell_type": "code",
      "execution_count": 7,
      "metadata": {
        "id": "akgeyfew5HrZ"
      },
      "outputs": [
        {
          "name": "stdout",
          "output_type": "stream",
          "text": [
            "Count is 0\n",
            "Count is 1\n",
            "Count is 2\n"
          ]
        }
      ],
      "source": [
        "count = 0\n",
        "while count < 3:\n",
        "    print(\"Count is\", count)\n",
        "    count += 1"
      ]
    },
    {
      "cell_type": "markdown",
      "metadata": {
        "id": "DDH-XaHE7iwt"
      },
      "source": [
        "## Logical Operators"
      ]
    },
    {
      "cell_type": "code",
      "execution_count": 8,
      "metadata": {
        "colab": {
          "base_uri": "https://localhost:8080/"
        },
        "id": "AlAd4vxN5rwP",
        "outputId": "95a8a5f3-befc-4483-be89-560ec250d9cb"
      },
      "outputs": [
        {
          "name": "stdout",
          "output_type": "stream",
          "text": [
            "Eligible for student discount\n"
          ]
        }
      ],
      "source": [
        "age = 25\n",
        "is_student = True\n",
        "\n",
        "if age > 18 and is_student:\n",
        "    print(\"Eligible for student discount\")\n"
      ]
    },
    {
      "cell_type": "code",
      "execution_count": 9,
      "metadata": {
        "id": "61faf0e3"
      },
      "outputs": [
        {
          "name": "stdout",
          "output_type": "stream",
          "text": [
            "It's not raining\n"
          ]
        }
      ],
      "source": [
        "# Example using 'not' operator\n",
        "is_raining = False\n",
        "\n",
        "if not is_raining:\n",
        "    print(\"It's not raining\")"
      ]
    },
    {
      "cell_type": "code",
      "execution_count": 10,
      "metadata": {
        "colab": {
          "base_uri": "https://localhost:8080/"
        },
        "id": "71a4252e",
        "outputId": "d5de9cf1-3004-47c2-a2a4-38ec3e95ca95"
      },
      "outputs": [
        {
          "name": "stdout",
          "output_type": "stream",
          "text": [
            "It's either hot or sunny (or both)\n"
          ]
        }
      ],
      "source": [
        "# Example using 'or' operator\n",
        "temperature = 25\n",
        "is_hot = temperature > 30\n",
        "is_sunny = True\n",
        "\n",
        "if is_hot or is_sunny:\n",
        "    print(\"It's either hot or sunny (or both)\")"
      ]
    },
    {
      "cell_type": "markdown",
      "metadata": {
        "id": "3KJGZXc086EA"
      },
      "source": [
        "# For Loop"
      ]
    },
    {
      "cell_type": "code",
      "execution_count": 11,
      "metadata": {
        "colab": {
          "base_uri": "https://localhost:8080/"
        },
        "id": "x81a51nq9Iar",
        "outputId": "242f9c31-1a8a-4961-8938-12b5599fe2c9"
      },
      "outputs": [
        {
          "name": "stdout",
          "output_type": "stream",
          "text": [
            "yasiru\n",
            "nadeesha\n",
            "amal\n"
          ]
        }
      ],
      "source": [
        "names = [\"yasiru\", \"nadeesha\", \"amal\"]\n",
        "for name in names:\n",
        "  print(name)"
      ]
    },
    {
      "cell_type": "code",
      "execution_count": 12,
      "metadata": {
        "colab": {
          "base_uri": "https://localhost:8080/"
        },
        "id": "VWHcRHB29WRg",
        "outputId": "1ee2f28c-2106-4d49-b55f-9f27bcee6bcd"
      },
      "outputs": [
        {
          "name": "stdout",
          "output_type": "stream",
          "text": [
            "1\n",
            "2\n",
            "3\n",
            "4\n",
            "5\n"
          ]
        }
      ],
      "source": [
        "for i in range(1,6):\n",
        "  print(i)"
      ]
    },
    {
      "cell_type": "code",
      "execution_count": 13,
      "metadata": {
        "colab": {
          "base_uri": "https://localhost:8080/"
        },
        "id": "lum9rm4f9gTE",
        "outputId": "21144ef1-c175-43d7-f695-d97bc08304d2"
      },
      "outputs": [
        {
          "name": "stdout",
          "output_type": "stream",
          "text": [
            "0\n",
            "1\n",
            "0\n",
            "1\n",
            "0\n",
            "1\n"
          ]
        }
      ],
      "source": [
        "for i in range(3):\n",
        "  for j in range(2):\n",
        "    print(j)"
      ]
    },
    {
      "cell_type": "markdown",
      "metadata": {
        "id": "Kj3mLHMB-BQ8"
      },
      "source": [
        "# While Loop"
      ]
    },
    {
      "cell_type": "code",
      "execution_count": 14,
      "metadata": {
        "id": "LUHjMTFI-FGX"
      },
      "outputs": [
        {
          "name": "stdout",
          "output_type": "stream",
          "text": [
            "Countdown: 5\n",
            "Countdown: 4\n",
            "Countdown: 3\n",
            "Countdown: 2\n",
            "Countdown: 1\n",
            "Go!\n"
          ]
        }
      ],
      "source": [
        "count = 5\n",
        "while count > 0:\n",
        "    print(\"Countdown:\", count)\n",
        "    count -= 1\n",
        "print(\"Go!\")"
      ]
    },
    {
      "cell_type": "markdown",
      "metadata": {
        "id": "tEckAVy8-LYh"
      },
      "source": [
        "# Loop Control(break , continue)"
      ]
    },
    {
      "cell_type": "code",
      "execution_count": 15,
      "metadata": {
        "id": "b4h-3L6x-K7M"
      },
      "outputs": [
        {
          "name": "stdout",
          "output_type": "stream",
          "text": [
            "Found even: 6\n"
          ]
        }
      ],
      "source": [
        "nums = [1, 3, 5, 6, 7, 9]\n",
        "for num in nums:\n",
        "    if num % 2 == 0:\n",
        "        print(\"Found even:\", num)\n",
        "        break"
      ]
    },
    {
      "cell_type": "code",
      "execution_count": 16,
      "metadata": {
        "id": "fCwrmsKi-hJS"
      },
      "outputs": [
        {
          "name": "stdout",
          "output_type": "stream",
          "text": [
            "0\n",
            "1\n",
            "2\n",
            "4\n"
          ]
        }
      ],
      "source": [
        "for i in range(5):\n",
        "    if i == 3:\n",
        "        continue\n",
        "    print(i)"
      ]
    }
  ],
  "metadata": {
    "colab": {
      "provenance": []
    },
    "kernelspec": {
      "display_name": "Python 3",
      "name": "python3"
    },
    "language_info": {
      "codemirror_mode": {
        "name": "ipython",
        "version": 3
      },
      "file_extension": ".py",
      "mimetype": "text/x-python",
      "name": "python",
      "nbconvert_exporter": "python",
      "pygments_lexer": "ipython3",
      "version": "3.13.5"
    }
  },
  "nbformat": 4,
  "nbformat_minor": 0
}
