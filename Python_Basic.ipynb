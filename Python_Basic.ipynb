{
  "nbformat": 4,
  "nbformat_minor": 0,
  "metadata": {
    "colab": {
      "provenance": [],
      "toc_visible": true,
      "authorship_tag": "ABX9TyOjJ/9jiAxEzB2U4tzfYRjy",
      "include_colab_link": true
    },
    "kernelspec": {
      "name": "python3",
      "display_name": "Python 3"
    },
    "language_info": {
      "name": "python"
    }
  },
  "cells": [
    {
      "cell_type": "markdown",
      "metadata": {
        "id": "view-in-github",
        "colab_type": "text"
      },
      "source": [
        "<a href=\"https://colab.research.google.com/github/yasirunadeeshaa/Python-Tutorial/blob/main/Python_Basic.ipynb\" target=\"_parent\"><img src=\"https://colab.research.google.com/assets/colab-badge.svg\" alt=\"Open In Colab\"/></a>"
      ]
    },
    {
      "cell_type": "markdown",
      "source": [
        "# Variables and Data"
      ],
      "metadata": {
        "id": "vnmKEVeW2YSs"
      }
    },
    {
      "cell_type": "code",
      "execution_count": null,
      "metadata": {
        "colab": {
          "base_uri": "https://localhost:8080/"
        },
        "id": "ZWtu-v2CoqQx",
        "outputId": "3a34316d-8217-4886-e51f-d96683b70630"
      },
      "outputs": [
        {
          "output_type": "stream",
          "name": "stdout",
          "text": [
            "Yasiru\n"
          ]
        }
      ],
      "source": [
        "print(\"Yasiru\")"
      ]
    },
    {
      "cell_type": "code",
      "source": [
        "name = input(\"Enter your name :- \")\n",
        "print(\"Hello \", name)"
      ],
      "metadata": {
        "colab": {
          "base_uri": "https://localhost:8080/"
        },
        "id": "GWA9lr6fuqXh",
        "outputId": "08622b70-ca55-47d5-d3e6-be02810b719c"
      },
      "execution_count": null,
      "outputs": [
        {
          "output_type": "stream",
          "name": "stdout",
          "text": [
            "Enter your name :- yasiru\n",
            "Hello  yasiru\n"
          ]
        }
      ]
    },
    {
      "cell_type": "code",
      "source": [
        "name = input(\"Enter your name :- \")\n",
        "age = int(input(\"Enter your age :- \"))\n",
        "print(\"Hiii \" ,name, \" you will be \",age + 1 ,\" next year !\")"
      ],
      "metadata": {
        "colab": {
          "base_uri": "https://localhost:8080/"
        },
        "id": "seysDQD0zDmx",
        "outputId": "b2deffaf-b4dd-40e8-8709-193c503bb32a"
      },
      "execution_count": null,
      "outputs": [
        {
          "output_type": "stream",
          "name": "stdout",
          "text": [
            "Enter your name :- yasiru\n",
            "Enter your age :- 22\n",
            "Hiii  yasiru  you will be  23  next year !\n"
          ]
        }
      ]
    },
    {
      "cell_type": "code",
      "source": [
        "a = 7\n",
        "b=3\n",
        "print(\"Add:\", a + b)            # 10\n",
        "print(\"Subtract:\", a - b)       # 4\n",
        "print(\"Multiply:\", a * b)       # 21\n",
        "print(\"Divide:\", a / b)         # 2.3333\n",
        "print(\"Floor Divide:\", a // b)  # 2\n",
        "print(\"Modulus:\", a % b)        # 1\n",
        "print(\"Power:\", a ** b)         # 343 (7 x 7 x 7)"
      ],
      "metadata": {
        "colab": {
          "base_uri": "https://localhost:8080/"
        },
        "id": "FdR6W9xyzx4x",
        "outputId": "613f650f-bb3f-4ebd-b829-55e43ad35699"
      },
      "execution_count": null,
      "outputs": [
        {
          "output_type": "stream",
          "name": "stdout",
          "text": [
            "Add :-  10\n",
            "Divide :-  2.3333333333333335\n",
            "Floor Divide :-  2\n",
            "Modulo :-  1\n",
            "Power :-  21\n",
            "Power by power :-  343\n"
          ]
        }
      ]
    },
    {
      "cell_type": "markdown",
      "source": [
        "# Control Structure"
      ],
      "metadata": {
        "id": "Rf5T9_FS3aDP"
      }
    },
    {
      "cell_type": "markdown",
      "source": [
        "## Decision making"
      ],
      "metadata": {
        "id": "fFiPD24a55ap"
      }
    },
    {
      "cell_type": "code",
      "source": [
        "score = int(input(\"Enter your score: \"))\n",
        "\n",
        "if score >= 90:\n",
        "    print(\"Grade: A\")\n",
        "elif score >= 75:\n",
        "    print(\"Grade: B\")\n",
        "elif score >= 60:\n",
        "    print(\"Grade: C\")\n",
        "else:\n",
        "    print(\"Grade: F\")"
      ],
      "metadata": {
        "colab": {
          "base_uri": "https://localhost:8080/"
        },
        "id": "sAEY18zy3l0N",
        "outputId": "29b389d9-ee95-46f7-b278-25127f861780"
      },
      "execution_count": null,
      "outputs": [
        {
          "output_type": "stream",
          "name": "stdout",
          "text": [
            "Enter your score: 20\n",
            "Grade: F\n"
          ]
        }
      ]
    },
    {
      "cell_type": "code",
      "source": [
        "for i in range(5):\n",
        "  if i==3:\n",
        "    continue\n",
        "  print(i)"
      ],
      "metadata": {
        "colab": {
          "base_uri": "https://localhost:8080/"
        },
        "id": "8U7BbYYQ4rSu",
        "outputId": "d099495e-4df5-435d-adb3-84488205a35a"
      },
      "execution_count": null,
      "outputs": [
        {
          "output_type": "stream",
          "name": "stdout",
          "text": [
            "0\n",
            "1\n",
            "2\n",
            "4\n"
          ]
        }
      ]
    },
    {
      "cell_type": "code",
      "source": [
        "count = 0\n",
        "while count < 3:\n",
        "    print(\"Count is\", count)\n",
        "    count += 1"
      ],
      "metadata": {
        "id": "akgeyfew5HrZ"
      },
      "execution_count": null,
      "outputs": []
    },
    {
      "cell_type": "markdown",
      "source": [
        "## Logical Operators"
      ],
      "metadata": {
        "id": "DDH-XaHE7iwt"
      }
    },
    {
      "cell_type": "code",
      "source": [
        "age = 25\n",
        "is_student = True\n",
        "\n",
        "if age > 18 and is_student:\n",
        "    print(\"Eligible for student discount\")\n"
      ],
      "metadata": {
        "colab": {
          "base_uri": "https://localhost:8080/"
        },
        "id": "AlAd4vxN5rwP",
        "outputId": "95a8a5f3-befc-4483-be89-560ec250d9cb"
      },
      "execution_count": null,
      "outputs": [
        {
          "output_type": "stream",
          "name": "stdout",
          "text": [
            "Eligible for student discount\n"
          ]
        }
      ]
    },
    {
      "cell_type": "code",
      "metadata": {
        "id": "61faf0e3"
      },
      "source": [
        "# Example using 'not' operator\n",
        "is_raining = False\n",
        "\n",
        "if not is_raining:\n",
        "    print(\"It's not raining\")"
      ],
      "execution_count": null,
      "outputs": []
    },
    {
      "cell_type": "code",
      "metadata": {
        "colab": {
          "base_uri": "https://localhost:8080/"
        },
        "id": "71a4252e",
        "outputId": "d5de9cf1-3004-47c2-a2a4-38ec3e95ca95"
      },
      "source": [
        "# Example using 'or' operator\n",
        "temperature = 25\n",
        "is_hot = temperature > 30\n",
        "is_sunny = True\n",
        "\n",
        "if is_hot or is_sunny:\n",
        "    print(\"It's either hot or sunny (or both)\")"
      ],
      "execution_count": null,
      "outputs": [
        {
          "output_type": "stream",
          "name": "stdout",
          "text": [
            "It's either hot or sunny (or both)\n"
          ]
        }
      ]
    },
    {
      "cell_type": "markdown",
      "source": [
        "# For Loop"
      ],
      "metadata": {
        "id": "3KJGZXc086EA"
      }
    },
    {
      "cell_type": "code",
      "source": [
        "names = [\"yasiru\", \"nadeesha\", \"amal\"]\n",
        "for name in names:\n",
        "  print(name)"
      ],
      "metadata": {
        "colab": {
          "base_uri": "https://localhost:8080/"
        },
        "id": "x81a51nq9Iar",
        "outputId": "242f9c31-1a8a-4961-8938-12b5599fe2c9"
      },
      "execution_count": null,
      "outputs": [
        {
          "output_type": "stream",
          "name": "stdout",
          "text": [
            "yasiru\n",
            "nadeesha\n",
            "amal\n"
          ]
        }
      ]
    },
    {
      "cell_type": "code",
      "source": [
        "for i in range(1,6):\n",
        "  print(i)"
      ],
      "metadata": {
        "colab": {
          "base_uri": "https://localhost:8080/"
        },
        "id": "VWHcRHB29WRg",
        "outputId": "1ee2f28c-2106-4d49-b55f-9f27bcee6bcd"
      },
      "execution_count": null,
      "outputs": [
        {
          "output_type": "stream",
          "name": "stdout",
          "text": [
            "1\n",
            "2\n",
            "3\n",
            "4\n",
            "5\n"
          ]
        }
      ]
    },
    {
      "cell_type": "code",
      "source": [
        "for i in range(3):\n",
        "  for j in range(2):\n",
        "    print(j)"
      ],
      "metadata": {
        "colab": {
          "base_uri": "https://localhost:8080/"
        },
        "id": "lum9rm4f9gTE",
        "outputId": "21144ef1-c175-43d7-f695-d97bc08304d2"
      },
      "execution_count": null,
      "outputs": [
        {
          "output_type": "stream",
          "name": "stdout",
          "text": [
            "0\n",
            "1\n",
            "0\n",
            "1\n",
            "0\n",
            "1\n"
          ]
        }
      ]
    },
    {
      "cell_type": "markdown",
      "source": [
        "# While Loop"
      ],
      "metadata": {
        "id": "Kj3mLHMB-BQ8"
      }
    },
    {
      "cell_type": "code",
      "source": [
        "count = 5\n",
        "while count > 0:\n",
        "    print(\"Countdown:\", count)\n",
        "    count -= 1\n",
        "print(\"Go!\")"
      ],
      "metadata": {
        "id": "LUHjMTFI-FGX"
      },
      "execution_count": null,
      "outputs": []
    },
    {
      "cell_type": "markdown",
      "source": [
        "# Loop Control(break , continue)"
      ],
      "metadata": {
        "id": "tEckAVy8-LYh"
      }
    },
    {
      "cell_type": "code",
      "source": [
        "nums = [1, 3, 5, 6, 7, 9]\n",
        "for num in nums:\n",
        "    if num % 2 == 0:\n",
        "        print(\"Found even:\", num)\n",
        "        break"
      ],
      "metadata": {
        "id": "b4h-3L6x-K7M"
      },
      "execution_count": null,
      "outputs": []
    },
    {
      "cell_type": "code",
      "source": [
        "for i in range(5):\n",
        "    if i == 3:\n",
        "        continue\n",
        "    print(i)"
      ],
      "metadata": {
        "id": "fCwrmsKi-hJS"
      },
      "execution_count": null,
      "outputs": []
    },
    {
      "cell_type": "markdown",
      "source": [
        "# Task"
      ],
      "metadata": {
        "id": "ipYXRBJHFRWb"
      }
    },
    {
      "cell_type": "markdown",
      "source": [
        "## Even or Odd Checker"
      ],
      "metadata": {
        "id": "UFBg6tlIFU4R"
      }
    },
    {
      "cell_type": "code",
      "source": [
        "number = int(input(\"Enter a number: \"))\n",
        "if number % 2 == 0:\n",
        "    print(\"Even\")\n",
        "else:\n",
        "    print(\"Odd\")\n"
      ],
      "metadata": {
        "id": "T_HebVhPFyak"
      },
      "execution_count": null,
      "outputs": []
    },
    {
      "cell_type": "markdown",
      "source": [
        "## Print Multiplication Table"
      ],
      "metadata": {
        "id": "xgqbfTGXFa0E"
      }
    },
    {
      "cell_type": "code",
      "source": [
        "n = int(input(\"Enter a number: \"))\n",
        "for i in range(1, 11):\n",
        "    print(f\"{n} x {i} = {n*i}\")\n"
      ],
      "metadata": {
        "id": "fkSBQvDiGCSs"
      },
      "execution_count": null,
      "outputs": []
    },
    {
      "cell_type": "markdown",
      "source": [
        "## Login System"
      ],
      "metadata": {
        "id": "HisqU8hTFeFC"
      }
    },
    {
      "cell_type": "code",
      "source": [
        "password = \"yasiru123\"\n",
        "maxAttempts = 3\n",
        "\n",
        "while maxAttempts>0:\n",
        "  enterPassword = input(\"Enter password :- \")\n",
        "  if enterPassword == password:\n",
        "    print(\"Access granted ...\")\n",
        "    break\n",
        "  else:\n",
        "    maxAttempts -= 1\n",
        "    print(\"Wrong password. Attempts left : \",maxAttempts)\n",
        "else:\n",
        "  print(\"access denied !!!!!!!\")"
      ],
      "metadata": {
        "colab": {
          "base_uri": "https://localhost:8080/"
        },
        "id": "LjE4uN-KGEDe",
        "outputId": "040f17dc-2866-4db1-8623-b0f7119780c0"
      },
      "execution_count": null,
      "outputs": [
        {
          "output_type": "stream",
          "name": "stdout",
          "text": [
            "Enter password :- sdfvsv5s\n",
            "Wrong password. Attempts left :  2\n",
            "Enter password :- yasiru123\n",
            "Access granted ...\n"
          ]
        }
      ]
    },
    {
      "cell_type": "code",
      "source": [
        "email = \"yasiru@gmail.com\"\n",
        "password = \"yasiru123\"\n",
        "loginAttempts = 3\n",
        "\n",
        "while loginAttempts > 0:\n",
        "  Eemail = input(\"Enter email ;- \")\n",
        "  Epassword = input(\"Enter password :- \")\n",
        "\n",
        "  if email == Eemail:\n",
        "    if password == Epassword :\n",
        "      print(\"Access granted .....\")\n",
        "      break\n",
        "    else:\n",
        "      loginAttempts -= 1\n",
        "      print(\"Wrong password. Attempts left : \",loginAttempts)\n",
        "  else:\n",
        "    loginAttempts -= 1\n",
        "    print(\"Wrong email. Attempts left : \",loginAttempts)\n",
        "else:\n",
        "  print(\"Access denied !!!!!!!\")"
      ],
      "metadata": {
        "colab": {
          "base_uri": "https://localhost:8080/"
        },
        "id": "DtrOGiGsH4dv",
        "outputId": "a7fa1a1f-4872-48e6-8aa1-44f4c3200bb7"
      },
      "execution_count": null,
      "outputs": [
        {
          "output_type": "stream",
          "name": "stdout",
          "text": [
            "Enter email ;- yasiru@gmail.com\n",
            "Enter password :- yasiru123\n",
            "Access granted .....\n"
          ]
        }
      ]
    },
    {
      "cell_type": "markdown",
      "source": [
        "# Data Structure"
      ],
      "metadata": {
        "id": "cop3Ep2zKP71"
      }
    },
    {
      "cell_type": "markdown",
      "source": [
        "### List"
      ],
      "metadata": {
        "id": "Pj4Z-F4QKeA6"
      }
    },
    {
      "cell_type": "code",
      "source": [
        "fruits = [\"apple\", \"banana\", \"cherry\"]\n",
        "fruits.append(\"mango\")\n",
        "print(fruits)\n",
        "print(fruits[0:2])"
      ],
      "metadata": {
        "colab": {
          "base_uri": "https://localhost:8080/"
        },
        "id": "lIwWBKgrKUD6",
        "outputId": "aba216af-b44c-44e6-ab1b-c971eece6f19"
      },
      "execution_count": 3,
      "outputs": [
        {
          "output_type": "stream",
          "name": "stdout",
          "text": [
            "['apple', 'banana', 'cherry', 'mango']\n",
            "['apple', 'banana']\n"
          ]
        }
      ]
    },
    {
      "cell_type": "markdown",
      "source": [
        "### Dictionary"
      ],
      "metadata": {
        "id": "Vh29G-d0Kh__"
      }
    },
    {
      "cell_type": "code",
      "source": [
        "person = {\"name\": \"Yasiru\", \"age\": 23}\n",
        "print(person[\"name\"])"
      ],
      "metadata": {
        "id": "C3oUOi3AK5gO"
      },
      "execution_count": null,
      "outputs": []
    },
    {
      "cell_type": "markdown",
      "source": [
        "### Tuple"
      ],
      "metadata": {
        "id": "_le35TRuKk0B"
      }
    },
    {
      "cell_type": "code",
      "source": [
        "dimensions = (200, 400)\n",
        "print(\"Width:\", dimensions[0])"
      ],
      "metadata": {
        "id": "duvBsSXiK3k8"
      },
      "execution_count": null,
      "outputs": []
    },
    {
      "cell_type": "markdown",
      "source": [
        "### Set"
      ],
      "metadata": {
        "id": "6gBGcI4VKoG7"
      }
    },
    {
      "cell_type": "code",
      "source": [
        "unique_nums = {1, 2, 2, 3}\n",
        "print(unique_nums)  # Outputs: {1, 2, 3}"
      ],
      "metadata": {
        "id": "vo6gb3kmK1P7"
      },
      "execution_count": null,
      "outputs": []
    },
    {
      "cell_type": "markdown",
      "source": [
        "### List Comprehensive"
      ],
      "metadata": {
        "id": "GVFhtMPvKrCj"
      }
    },
    {
      "cell_type": "code",
      "source": [
        "squares = [x**2 for x in range(5)]\n",
        "print(squares)"
      ],
      "metadata": {
        "id": "0E4sXknbKwwz"
      },
      "execution_count": null,
      "outputs": []
    },
    {
      "cell_type": "markdown",
      "source": [
        "# Functions and Modules"
      ],
      "metadata": {
        "id": "0vf9ktDEK-Q-"
      }
    },
    {
      "cell_type": "code",
      "source": [
        "def greet(name):\n",
        "    return f\"Hi {name}!\"\n",
        "\n",
        "print(greet(\"Yasiru\"))"
      ],
      "metadata": {
        "id": "XgexrKCuLDYi"
      },
      "execution_count": null,
      "outputs": []
    },
    {
      "cell_type": "markdown",
      "source": [
        "# File Handling & Exceptions"
      ],
      "metadata": {
        "id": "sbSEDIi4LgIB"
      }
    },
    {
      "cell_type": "code",
      "source": [
        "# Writing to a file\n",
        "with open(\"test.txt\", \"w\") as f:\n",
        "    f.write(\"Hello, this is Yasiru.\\n\")\n",
        "\n",
        "# Reading from a file\n",
        "try:\n",
        "    with open(\"test.txt\", \"r\") as f:\n",
        "        content = f.read()\n",
        "        print(content)\n",
        "except FileNotFoundError:\n",
        "    print(\"File not found.\")\n",
        "\n",
        "# Exception handling\n",
        "try:\n",
        "    num = int(input(\"Enter a number: \"))\n",
        "    print(10 / num)\n",
        "except ValueError:\n",
        "    print(\"That's not a number!\")\n",
        "except ZeroDivisionError:\n",
        "    print(\"Cannot divide by zero!\")\n",
        "finally:\n",
        "    print(\"This runs no matter what.\")\n"
      ],
      "metadata": {
        "colab": {
          "base_uri": "https://localhost:8080/"
        },
        "id": "LhyQ2vJ6LktF",
        "outputId": "8692a8b3-1ca7-4c7f-d99f-ecb70e17f5a4"
      },
      "execution_count": null,
      "outputs": [
        {
          "output_type": "stream",
          "name": "stdout",
          "text": [
            "Hello, this is Yasiru.\n",
            "\n",
            "Enter a number: 0\n",
            "Cannot divide by zero!\n",
            "This runs no matter what.\n"
          ]
        }
      ]
    },
    {
      "cell_type": "markdown",
      "source": [
        "# math Module in Python"
      ],
      "metadata": {
        "id": "HfAV6WmAM10U"
      }
    },
    {
      "cell_type": "code",
      "source": [
        "import math\n",
        "math.radians(90)  # → 1.570796\n",
        "\n",
        "math.degrees(math.pi)  # → 180.0\n",
        "\n",
        "print(math.log(2.718))     # ≈ 1\n",
        "print(math.log10(1000))    # 3\n",
        "print(math.exp(2))         # ≈ 7.389\n",
        "\n",
        "# Square root\n",
        "print(\"√25 =\", math.sqrt(25))\n",
        "\n",
        "# Power\n",
        "print(\"2^4 =\", math.pow(2, 4))\n",
        "\n",
        "# Trigonometry\n",
        "angle_deg = 90\n",
        "angle_rad = math.radians(angle_deg)\n",
        "print(\"sin(90°) =\", math.sin(angle_rad))\n",
        "\n",
        "# Logarithm\n",
        "print(\"log10(1000) =\", math.log10(1000))\n",
        "\n",
        "# Constants\n",
        "print(\"PI =\", math.pi)\n",
        "print(\"e =\", math.e)"
      ],
      "metadata": {
        "colab": {
          "base_uri": "https://localhost:8080/"
        },
        "id": "7lrfOca4M3vv",
        "outputId": "5736e18d-b8e3-4029-9cdf-f084de4e7fd9"
      },
      "execution_count": null,
      "outputs": [
        {
          "output_type": "stream",
          "name": "stdout",
          "text": [
            "0.999896315728952\n",
            "3.0\n",
            "7.38905609893065\n",
            "√25 = 5.0\n",
            "2^4 = 16.0\n",
            "sin(90°) = 1.0\n",
            "log10(1000) = 3.0\n",
            "PI = 3.141592653589793\n",
            "e = 2.718281828459045\n"
          ]
        }
      ]
    }
  ]
}