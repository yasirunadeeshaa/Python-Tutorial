{
  "cells": [
    {
      "cell_type": "markdown",
      "metadata": {
        "id": "view-in-github",
        "colab_type": "text"
      },
      "source": [
        "<a href=\"https://colab.research.google.com/github/yasirunadeeshaa/Python-Tutorial/blob/main/PracticeChallange_1.ipynb\" target=\"_parent\"><img src=\"https://colab.research.google.com/assets/colab-badge.svg\" alt=\"Open In Colab\"/></a>"
      ]
    },
    {
      "cell_type": "markdown",
      "id": "939f07d5",
      "metadata": {
        "id": "939f07d5"
      },
      "source": [
        "Even or Odd checker"
      ]
    },
    {
      "cell_type": "code",
      "execution_count": null,
      "id": "c43df997",
      "metadata": {
        "id": "c43df997"
      },
      "outputs": [],
      "source": [
        "number = int(input(\"Enter a number: \"))\n",
        "if number % 2 == 0:\n",
        "    print(\"Even\")\n",
        "else:\n",
        "    print(\"Odd\")"
      ]
    },
    {
      "cell_type": "markdown",
      "id": "657b9c28",
      "metadata": {
        "id": "657b9c28"
      },
      "source": [
        "## Multiplication table"
      ]
    },
    {
      "cell_type": "markdown",
      "metadata": {
        "id": "adf6b369"
      },
      "source": [
        "Now, let's print the multiplication table using a for loop."
      ],
      "id": "adf6b369"
    },
    {
      "cell_type": "code",
      "metadata": {
        "id": "d65d75a1"
      },
      "source": [
        "num = int(input(\"Enter a number for the multiplication table: \"))\n",
        "print(f\"Multiplication Table for {num} (using for loop):\")\n",
        "for i in range(1, 11):\n",
        "    print(f\"{num} x {i} = {num * i}\")"
      ],
      "id": "d65d75a1",
      "execution_count": null,
      "outputs": []
    },
    {
      "cell_type": "markdown",
      "metadata": {
        "id": "2ac79ef7"
      },
      "source": [
        "Next, we'll do the same using a `while` loop."
      ],
      "id": "2ac79ef7"
    },
    {
      "cell_type": "code",
      "metadata": {
        "id": "f7cdf2ad"
      },
      "source": [
        "num = int(input(\"Enter a number for the multiplication table: \"))\n",
        "print(f\"\\nMultiplication Table for {num} (using while loop):\")\n",
        "i = 1\n",
        "while i <= 10:\n",
        "    print(f\"{num} x {i} = {num * i}\")\n",
        "    i += 1"
      ],
      "id": "f7cdf2ad",
      "execution_count": null,
      "outputs": []
    },
    {
      "cell_type": "markdown",
      "metadata": {
        "id": "5da0930e"
      },
      "source": [
        "## Factorial calculator"
      ],
      "id": "5da0930e"
    },
    {
      "cell_type": "markdown",
      "metadata": {
        "id": "e85da3f2"
      },
      "source": [
        "Calculate the factorial using the `math.factorial()` function."
      ],
      "id": "e85da3f2"
    },
    {
      "cell_type": "code",
      "metadata": {
        "id": "663f1d95"
      },
      "source": [
        "import math\n",
        "num_factorial = int(input(\"Enter a non-negative integer to calculate its factorial: \"))\n",
        "if num_factorial >= 0:\n",
        "    factorial_math = math.factorial(num_factorial)\n",
        "    print(f\"Factorial of {num_factorial} using math.factorial(): {factorial_math}\")\n",
        "else:\n",
        "    print(\"Factorial is not defined for negative numbers.\")"
      ],
      "id": "663f1d95",
      "execution_count": null,
      "outputs": []
    },
    {
      "cell_type": "markdown",
      "metadata": {
        "id": "b703a1e4"
      },
      "source": [
        "Calculate the factorial using a manual method with a `for` loop."
      ],
      "id": "b703a1e4"
    },
    {
      "cell_type": "code",
      "metadata": {
        "id": "813b8517"
      },
      "source": [
        "import math\n",
        "num_factorial = int(input(\"Enter a non-negative integer to calculate its factorial: \"))\n",
        "if num_factorial >= 0:\n",
        "    factorial_manual = 1\n",
        "    if num_factorial == 0:\n",
        "        factorial_manual = 1\n",
        "    else:\n",
        "        for i in range(1, num_factorial + 1):\n",
        "            factorial_manual *= i\n",
        "    print(f\"Factorial of {num_factorial} using a for loop: {factorial_manual}\")\n",
        "else:\n",
        "    print(\"Factorial is not defined for negative numbers.\")"
      ],
      "id": "813b8517",
      "execution_count": null,
      "outputs": []
    },
    {
      "cell_type": "markdown",
      "source": [
        "## List operations"
      ],
      "metadata": {
        "id": "TqHDUtz8Pa2w"
      },
      "id": "TqHDUtz8Pa2w"
    },
    {
      "cell_type": "code",
      "source": [
        "List = [23, 45, 12, 67, 89, 45, 12]\n",
        "## find max value\n",
        "maxValue = int(List[0])\n",
        "for num in List:\n",
        "  if(num> maxValue):\n",
        "    maxValue = num\n",
        "print(f\"Maximum value in the list is: {maxValue}\")\n",
        "\n",
        "## find min value\n",
        "minValue = int(List[0])\n",
        "for num2 in List:\n",
        "  if(num2< minValue):\n",
        "    minValue = num2\n",
        "print(f\"Minimum value in the list is: {minValue}\")\n",
        "\n",
        "## find avarage\n",
        "avarage = sum(List)/len(List)\n",
        "print(f\"Avarage value in the list is: {avarage}\")\n",
        "\n",
        "## remove dublicates\n",
        "loopnum = 0\n",
        "while(loopnum< len(List)):\n",
        "  loopnum2 = loopnum + 1\n",
        "  while(loopnum2< len(List)):\n",
        "    if(List[loopnum]==List[loopnum2]):\n",
        "      del List[loopnum2]\n",
        "      print(List)\n",
        "    else:\n",
        "      loopnum2 += 1\n",
        "  else:\n",
        "    loopnum += 1\n",
        "\n",
        "## sort the list\n",
        "\n",
        "index = 0\n",
        "while(index< len(List)):\n",
        "  minVlaueIndex = index\n",
        "  for num in List:\n",
        "    if(num > List[minVlaueIndex]):\n",
        "      minVlaueIndex = List.index(num)\n",
        "      temp = List[index]\n",
        "      List[index]= List[minVlaueIndex]\n",
        "      List[minVlaueIndex] = temp\n",
        "  index += 1\n",
        "print(List)\n"
      ],
      "metadata": {
        "colab": {
          "base_uri": "https://localhost:8080/"
        },
        "id": "EhZq50fNPfm4",
        "outputId": "7fd26bb7-ac13-4da1-a8ee-d9c76d052c03"
      },
      "id": "EhZq50fNPfm4",
      "execution_count": 9,
      "outputs": [
        {
          "output_type": "stream",
          "name": "stdout",
          "text": [
            "Maximum value in the list is: 89\n",
            "Minimum value in the list is: 12\n",
            "Avarage value in the list is: 41.857142857142854\n",
            "[23, 45, 12, 67, 89, 12]\n",
            "[23, 45, 12, 67, 89]\n",
            "[12, 23, 45, 67, 89]\n"
          ]
        }
      ]
    },
    {
      "cell_type": "markdown",
      "metadata": {
        "id": "eae1acb4"
      },
      "source": [
        "## palindrome."
      ],
      "id": "eae1acb4"
    },
    {
      "cell_type": "code",
      "metadata": {
        "id": "59babb82"
      },
      "source": [
        "def is_palindrome(text):\n",
        "  # Remove spaces and convert to lowercase for case-insensitive check\n",
        "  text = text.replace(\" \", \"\").lower()\n",
        "  # Use slicing to reverse the string and compare\n",
        "  return text == text[::-1]\n",
        "\n",
        "# Example usage:\n",
        "input_string = \"madam\"\n",
        "if is_palindrome(input_string):\n",
        "  print(f\"'{input_string}' is a palindrome.\")\n",
        "else:\n",
        "  print(f\"'{input_string}' is not a palindrome.\")\n",
        "\n",
        "input_string_2 = \"hello\"\n",
        "if is_palindrome(input_string_2):\n",
        "  print(f\"'{input_string_2}' is a palindrome.\")\n",
        "else:\n",
        "  print(f\"'{input_string_2}' is not a palindrome.\")"
      ],
      "id": "59babb82",
      "execution_count": null,
      "outputs": []
    }
  ],
  "metadata": {
    "kernelspec": {
      "display_name": "Python 3",
      "language": "python",
      "name": "python3"
    },
    "language_info": {
      "codemirror_mode": {
        "name": "ipython",
        "version": 3
      },
      "file_extension": ".py",
      "mimetype": "text/x-python",
      "name": "python",
      "nbconvert_exporter": "python",
      "pygments_lexer": "ipython3",
      "version": "3.13.5"
    },
    "colab": {
      "provenance": [],
      "include_colab_link": true
    }
  },
  "nbformat": 4,
  "nbformat_minor": 5
}