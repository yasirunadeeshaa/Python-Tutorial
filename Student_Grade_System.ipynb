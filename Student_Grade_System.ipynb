{
  "nbformat": 4,
  "nbformat_minor": 0,
  "metadata": {
    "colab": {
      "provenance": [],
      "authorship_tag": "ABX9TyPsrkefBQUImO93ALgXMTWL",
      "include_colab_link": true
    },
    "kernelspec": {
      "name": "python3",
      "display_name": "Python 3"
    },
    "language_info": {
      "name": "python"
    }
  },
  "cells": [
    {
      "cell_type": "markdown",
      "metadata": {
        "id": "view-in-github",
        "colab_type": "text"
      },
      "source": [
        "<a href=\"https://colab.research.google.com/github/yasirunadeeshaa/Python-Tutorial/blob/main/Student_Grade_System.ipynb\" target=\"_parent\"><img src=\"https://colab.research.google.com/assets/colab-badge.svg\" alt=\"Open In Colab\"/></a>"
      ]
    },
    {
      "cell_type": "markdown",
      "source": [
        "# Student Grade System"
      ],
      "metadata": {
        "id": "G0btEH4HZdXC"
      }
    },
    {
      "cell_type": "markdown",
      "source": [
        "Create a Python script that manages student grades using a dictionary. The script should be able to add a new student, calculate the average grade for each student, find the student with the highest average grade, and display all the student data, including their grades and calculated averages."
      ],
      "metadata": {
        "id": "2c19g8bWZhjP"
      }
    },
    {
      "cell_type": "code",
      "source": [
        "student_grades = {}\n",
        "student_grades['Alice'] = [85, 90, 92]\n",
        "student_grades['Bob'] = [78, 88, 85]\n",
        "student_grades['Charlie'] = [95, 89, 91]\n",
        "\n",
        "## add a new student and their grades to the dictionary.\n",
        "\n",
        "new_student_name = input(\"Enter the name of the new student: \")\n",
        "grades_input = input(\"Enter the grades for the new student (comma-separated): \")\n",
        "new_student_grades = [int(grade) for grade in grades_input.split(',')]\n",
        "\n",
        "student_grades[new_student_name] = new_student_grades\n",
        "\n",
        "print(f\"Added {new_student_name} with grades {new_student_grades} to the dictionary.\")\n",
        "print(\"Current student grades:\")\n",
        "display(student_grades)\n",
        "\n",
        "## Calculate average grades\n",
        "\n",
        "average_grades = {}\n",
        "for student, grades in student_grades.items():\n",
        "  average = sum(grades) / len(grades)\n",
        "  average_grades[student] = average\n",
        "print(\"\\nAverage grades for each student:\")\n",
        "display(average_grades)\n",
        "\n",
        "\n",
        "highest_average = 0\n",
        "student_with_highest_average = \"\"\n",
        "\n",
        "for student, average in average_grades.items():\n",
        "  if average > highest_average:\n",
        "    highest_average = average\n",
        "    student_with_highest_average = student\n",
        "\n",
        "## Display data\n",
        "\n",
        "print(\"\\n--- Student Data ---\")\n",
        "for student, grades in student_grades.items():\n",
        "  average = average_grades[student]\n",
        "  print(f\"Student: {student}\")\n",
        "  print(f\"  Grades: {grades}\")\n",
        "  print(f\"  Average Grade: {average:.2f}\")\n",
        "\n",
        "print(\"\\n--- Top Performer ---\")\n",
        "print(f\"Student with the highest average: {student_with_highest_average}\")\n",
        "print(f\"Highest Average Grade: {highest_average:.2f}\")\n"
      ],
      "metadata": {
        "colab": {
          "base_uri": "https://localhost:8080/",
          "height": 573
        },
        "id": "M_-JHN04ZyoC",
        "outputId": "b181619c-ccb1-4a20-f014-caca9c355726"
      },
      "execution_count": 1,
      "outputs": [
        {
          "output_type": "stream",
          "name": "stdout",
          "text": [
            "Enter the name of the new student: yasiru\n",
            "Enter the grades for the new student (comma-separated): 50,88,95\n",
            "Added yasiru with grades [50, 88, 95] to the dictionary.\n",
            "Current student grades:\n"
          ]
        },
        {
          "output_type": "display_data",
          "data": {
            "text/plain": [
              "{'Alice': [85, 90, 92],\n",
              " 'Bob': [78, 88, 85],\n",
              " 'Charlie': [95, 89, 91],\n",
              " 'yasiru': [50, 88, 95]}"
            ]
          },
          "metadata": {}
        },
        {
          "output_type": "stream",
          "name": "stdout",
          "text": [
            "\n",
            "Average grades for each student:\n"
          ]
        },
        {
          "output_type": "display_data",
          "data": {
            "text/plain": [
              "{'Alice': 89.0,\n",
              " 'Bob': 83.66666666666667,\n",
              " 'Charlie': 91.66666666666667,\n",
              " 'yasiru': 77.66666666666667}"
            ]
          },
          "metadata": {}
        },
        {
          "output_type": "stream",
          "name": "stdout",
          "text": [
            "\n",
            "--- Student Data ---\n",
            "Student: Alice\n",
            "  Grades: [85, 90, 92]\n",
            "  Average Grade: 89.00\n",
            "Student: Bob\n",
            "  Grades: [78, 88, 85]\n",
            "  Average Grade: 83.67\n",
            "Student: Charlie\n",
            "  Grades: [95, 89, 91]\n",
            "  Average Grade: 91.67\n",
            "Student: yasiru\n",
            "  Grades: [50, 88, 95]\n",
            "  Average Grade: 77.67\n",
            "\n",
            "--- Top Performer ---\n",
            "Student with the highest average: Charlie\n",
            "Highest Average Grade: 91.67\n"
          ]
        }
      ]
    },
    {
      "cell_type": "markdown",
      "source": [
        "##Summary:\n",
        "Data Analysis Key Findings\n",
        "The script successfully stored student names and their corresponding grades in a dictionary.\n",
        "New student data could be added to the existing dictionary.\n",
        "The average grade for each student was calculated accurately.\n",
        "The student with the highest average grade was successfully identified.\n",
        "All student data, including grades and calculated averages, was displayed in a clear format, along with the top-performing student.\n",
        "Insights or Next Steps\n",
        "The current script provides a basic framework for managing student grades. Future enhancements could include functionalities for updating grades, removing students, and saving/loading data from a file for persistence.\n",
        "Consider adding error handling for user input, such as ensuring that grades are entered as numbers and handling cases where a student might have no grades entered."
      ],
      "metadata": {
        "id": "2vmNNT5dab7D"
      }
    }
  ]
}